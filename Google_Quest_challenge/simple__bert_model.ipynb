{
  "nbformat": 4,
  "nbformat_minor": 0,
  "metadata": {
    "colab": {
      "name": "simple _bert model",
      "provenance": [],
      "collapsed_sections": []
    },
    "kernelspec": {
      "name": "python3",
      "display_name": "Python 3"
    },
    "accelerator": "GPU"
  },
  "cells": [
    {
      "cell_type": "code",
      "metadata": {
        "id": "W6VlZ-Jv9vys",
        "outputId": "35942fa0-fdb9-4792-d3d6-b40861960411",
        "colab": {
          "base_uri": "https://localhost:8080/",
          "height": 257
        }
      },
      "source": [
        "import os\n",
        "try:\n",
        "  if not os.path.exists('/content/sample_submission.csv') and not os.path.exists('/content/train.csv.zip') and not os.path.exists('/content/test.csv'):\n",
        "    ! mkdir ~/.kaggle\n",
        "    ! mv kaggle.json ~/.kaggle/\n",
        "    ! chmod 600 ~/.kaggle/kaggle.json\n",
        "    !kaggle competitions download -c google-quest-challenge\n",
        "except:\n",
        "  pass"
      ],
      "execution_count": 1,
      "outputs": [
        {
          "output_type": "stream",
          "text": [
            "mkdir: cannot create directory ‘/root/.kaggle’: File exists\n",
            "mv: cannot stat 'kaggle.json': No such file or directory\n",
            "Warning: Looks like you're using an outdated API Version, please consider updating (server 1.5.6 / client 1.5.4)\n",
            "Downloading sample_submission.csv to /content\n",
            "  0% 0.00/115k [00:00<?, ?B/s]\n",
            "100% 115k/115k [00:00<00:00, 42.5MB/s]\n",
            "Downloading test.csv to /content\n",
            "  0% 0.00/954k [00:00<?, ?B/s]\n",
            "100% 954k/954k [00:00<00:00, 62.1MB/s]\n",
            "Downloading train.csv.zip to /content\n",
            "  0% 0.00/4.50M [00:00<?, ?B/s]\n",
            "100% 4.50M/4.50M [00:00<00:00, 148MB/s]\n"
          ],
          "name": "stdout"
        }
      ]
    },
    {
      "cell_type": "code",
      "metadata": {
        "id": "bJEHBticZWGv"
      },
      "source": [
        "def data_directory():\n",
        "  try:\n",
        "    if not os.path.exists('/content/Google_Quest/train_data')and not os.path.exists('/content/Google_Quest/test_data') and not os.path.exists('/content/Google_Quest/sample_data') :\n",
        "      !unzip train.csv -d /content/Google_Quest/train_data\n",
        "      !mv test.csv /content/Google_Quest/test_data\n",
        "      ! mkdir Google_Quest\n",
        "      ! mkdir /content/Google_Quest/train_data\n",
        "      ! mkdir /content/Google_Quest/test_data\n",
        "      ! mkdir /content/Google_Quest/sample_data\n",
        "      !unzip train.csv -d /content/Google_Quest/train_data\n",
        "      !mv test.csv /content/Google_Quest/test_data\n",
        "      !mv sample_submission.csv /content/Google_Quest/sample_data\n",
        "  except:\n",
        "    pass\n",
        "\n",
        "  return {\n",
        "      'train_data_path':'/content/Google_Quest/train_data/train.csv',\n",
        "      'test_data_path':'/content/Google_Quest/test_data/test.csv',\n",
        "      'sample_data_path':'/content/Google_Quest/sample_data/sample_submission.csv'\n",
        "    }"
      ],
      "execution_count": 2,
      "outputs": []
    },
    {
      "cell_type": "code",
      "metadata": {
        "id": "Qjqb3z0BXqei"
      },
      "source": [
        "import torch.nn as nn\n",
        "import transformers\n",
        "import torch\n",
        "import pandas as pd\n",
        "from sklearn.model_selection import train_test_split\n",
        "from transformers import AdamW,get_linear_schedule_with_warmup\n",
        "from tqdm import  tqdm \n",
        "import numpy as np"
      ],
      "execution_count": 18,
      "outputs": []
    },
    {
      "cell_type": "code",
      "metadata": {
        "id": "Xy838o5EJJtz"
      },
      "source": [
        "def get_device():\n",
        "  if torch.cuda.is_available():\n",
        "    return torch.device('cuda:0')\n",
        "  else:\n",
        "    return torch.device('cpu')\n"
      ],
      "execution_count": 4,
      "outputs": []
    },
    {
      "cell_type": "code",
      "metadata": {
        "id": "_OPhDAfzStXH"
      },
      "source": [
        "class Bertmodel(nn.Module):\n",
        "  def __init__(self):\n",
        "    super(Bertmodel,self).__init__()\n",
        "    self.bert=transformers.BertModel.from_pretrained('bert-base-uncased')\n",
        "    self.bert_drop=nn.Dropout(0.3)\n",
        "    self.out=nn.Linear(768,30)\n",
        "  \n",
        "  def forward(self, ids,mask,token_type_ids):\n",
        "    _,output2=self.bert(ids,attention_mask=mask,token_type_ids=token_type_ids)\n",
        "    bo=self.bert_drop(output2)\n",
        "    return self.out(bo)\n"
      ],
      "execution_count": 5,
      "outputs": []
    },
    {
      "cell_type": "code",
      "metadata": {
        "id": "9kt5RNST-PQt"
      },
      "source": [
        "\n",
        "\n",
        "class datatraining:\n",
        "  def __init__(self,qtitle,qbody,answer,tokenizer,max_len,targets):\n",
        "    self.qtitle=qtitle\n",
        "    self.qbody=qbody\n",
        "    self.answer=answer\n",
        "    self.tokenizer=tokenizer\n",
        "    self.max_len=max_len\n",
        "    self.targets=targets\n",
        "  \n",
        "  def __len__(self):\n",
        "    return len(self.answer)\n",
        "  \n",
        "  def __getitem__(self,item):\n",
        "    question_title=str(self.qtitle[item])\n",
        "    question_body=str(self.qbody[item])\n",
        "    answer=str(self.answer[item])\n",
        "    inputs=self.tokenizer.encode_plus(\n",
        "                                      question_title+' '+ question_body,\n",
        "                                      answer,\n",
        "                                      add_special_tokens =True,\n",
        "                                      truncation=True,\n",
        "                                      max_length=self.max_len)\n",
        "    ids=inputs['input_ids']\n",
        "    token_type_ids=inputs['token_type_ids']\n",
        "    mask=inputs['attention_mask']\n",
        "\n",
        "    padding_len=self.max_len-len(ids)\n",
        "    ids.extend([0]*padding_len)\n",
        "    token_type_ids.extend([0]*padding_len)\n",
        "    mask.extend([0]*padding_len)\n",
        "\n",
        "    return{\n",
        "        'ids':torch.tensor(ids,dtype=torch.long),\n",
        "        'token_type_ids':torch.tensor(token_type_ids,dtype=torch.long),\n",
        "        'mask':torch.tensor(mask,dtype=torch.long),\n",
        "        'targets':torch.tensor(self.targets[item,:],dtype=torch.float)\n",
        "        \n",
        "    }\n",
        "  "
      ],
      "execution_count": 6,
      "outputs": []
    },
    {
      "cell_type": "code",
      "metadata": {
        "id": "RlFLylJuSxD_"
      },
      "source": [
        "def loss_fn(outputs,targets):\n",
        "    return nn.BCEWithLogitsLoss()(outputs,targets)"
      ],
      "execution_count": 7,
      "outputs": []
    },
    {
      "cell_type": "code",
      "metadata": {
        "id": "jRVfGzqUS4DV"
      },
      "source": [
        "def train_loop_fn(data_loader,model,optimizer,device,scheduler=None):\n",
        "    model.train()\n",
        "    for bi,d in enumerate(data_loader):\n",
        "      ids=d['ids']\n",
        "      mask=d['mask']\n",
        "      token_type_ids=d['token_type_ids']\n",
        "      targets=d['targets']\n",
        "\n",
        "      ids=ids.to(device,dtype=torch.long)\n",
        "      mask=mask.to(device,dtype=torch.long)\n",
        "      token_type_ids=token_type_ids.to(device,dtype=torch.long)\n",
        "      targets=targets.to(device,dtype=torch.float)\n",
        "\n",
        "      optimizer.zero_grad()\n",
        "      outputs=model(\n",
        "          ids=ids,\n",
        "          mask=mask,\n",
        "          token_type_ids=token_type_ids\n",
        "      )\n",
        "      loss=loss_fn(outputs,targets)\n",
        "      loss.backward()\n",
        "      optimizer.step()\n",
        "      if scheduler is not None:\n",
        "        scheduler.step()\n"
      ],
      "execution_count": 8,
      "outputs": []
    },
    {
      "cell_type": "code",
      "metadata": {
        "id": "qgsLNB7QS9a8"
      },
      "source": [
        "def eval_loop_fn(data_loader,model,device):\n",
        "    model.eval()\n",
        "    fin_targets=[]\n",
        "    fin_outputs=[]\n",
        "    for bi,d in enumerate(data_loader):\n",
        "      ids=d['ids']\n",
        "      mask=d['mask']\n",
        "      token_type_ids=d['token_type_ids']\n",
        "      targets=d['targets']\n",
        "\n",
        "      ids=ids.to(device,dtype=torch.long)\n",
        "      mask=mask.to(device,dtype=torch.long)\n",
        "      token_type_ids=token_type_ids.to(device,dtype=torch.long)\n",
        "      targets=targets.to(device,dtype=torch.float)\n",
        "\n",
        "      outputs=model(\n",
        "          ids=ids,\n",
        "          mask=mask,\n",
        "          token_type_ids=token_type_ids\n",
        "      )\n",
        "      loss=loss_fn(outputs,targets)\n",
        "\n",
        "      fin_targets.append(targets.cpu().detach().numpy())\n",
        "      fin_outputs.append(outputs.cpu().detach().numpy())\n",
        "\n",
        "      return np.vstack(fin_outputs),np.vstack(fin_targets)"
      ],
      "execution_count": 15,
      "outputs": []
    },
    {
      "cell_type": "code",
      "metadata": {
        "id": "M0CC47oHVgAx"
      },
      "source": [
        "def run():\n",
        "  MAX_LEN=512\n",
        "  TRAIN_BATCH_SIZE=4\n",
        "  EPOCHS=5\n",
        "\n",
        "  data_dic=data_directory()\n",
        "\n",
        "  df=pd.read_csv(data_dic['train_data_path']).fillna('none')\n",
        "  df_train,df_valid=train_test_split(df,test_size=0.1,random_state=42)\n",
        "  df_train.reset_index(drop=True)\n",
        "  df_valid.reset_index(drop=True)\n",
        "\n",
        "  tokenizer=transformers.BertTokenizer.from_pretrained('bert-base-uncased',do_lower_case=True)\n",
        "\n",
        "  sample=pd.read_csv(data_dic['sample_data_path'])\n",
        "  target_cols=list(sample.drop('qa_id',axis=1).columns)\n",
        "  train_target=df_train[target_cols].values\n",
        "  valid_target=df_valid[target_cols].values\n",
        "\n",
        "  train_dataset=datatraining(\n",
        "      qtitle=df_train.question_title.values,\n",
        "      qbody=df_train.question_body.values,\n",
        "      answer=df_train.answer.values,\n",
        "      targets=train_target,\n",
        "      tokenizer=tokenizer,\n",
        "      max_len=MAX_LEN\n",
        "  )\n",
        "  train_data_loader=torch.utils.data.DataLoader(\n",
        "                                                  train_dataset,\n",
        "                                                  shuffle=True,\n",
        "                                                  batch_size=TRAIN_BATCH_SIZE\n",
        "  )\n",
        "  valid_dataset=datatraining(\n",
        "      qtitle=df_valid.question_title.values,\n",
        "      qbody=df_valid.question_body.values,\n",
        "      answer=df_valid.answer.values,\n",
        "      targets=valid_target,\n",
        "      tokenizer=tokenizer,\n",
        "      max_len=MAX_LEN\n",
        "  )\n",
        "  valid_data_loader=torch.utils.data.DataLoader(\n",
        "      valid_dataset,\n",
        "      shuffle=True,\n",
        "      batch_size=TRAIN_BATCH_SIZE\n",
        "  )\n",
        "  device=get_device()\n",
        "  lr=2e-5\n",
        "  num_train_steps=len(train_data_loader) * EPOCHS\n",
        "  model=Bertmodel().to(device)\n",
        "  optimizer=AdamW(model.parameters(),lr=lr)\n",
        "  scheduler=get_linear_schedule_with_warmup(\n",
        "                                            optimizer,\n",
        "                                            num_warmup_steps=0,\n",
        "                                            num_training_steps=num_train_steps\n",
        "  )\n",
        "  for epochs in tqdm(range(EPOCHS)):\n",
        "    print(f'\\nModel Training......  EPOCHS : {epochs}/{EPOCHS}' )\n",
        "    train_loop_fn(train_data_loader,model,optimizer,device,scheduler)\n",
        "    print('model validation.....')\n",
        "    output,target=eval_loop_fn(valid_data_loader,model,device)\n",
        "    print(output,target)  \n",
        "  "
      ],
      "execution_count": 20,
      "outputs": []
    },
    {
      "cell_type": "code",
      "metadata": {
        "id": "h8hapkGtgD2X",
        "outputId": "1774f006-a64a-45e5-b63a-29a9bba18bcf",
        "colab": {
          "base_uri": "https://localhost:8080/",
          "height": 1000
        }
      },
      "source": [
        "if __name__ == '__main__':\n",
        "  run()\n"
      ],
      "execution_count": 21,
      "outputs": [
        {
          "output_type": "stream",
          "text": [
            "\n",
            "\n",
            "\n",
            "  0%|          | 0/5 [00:00<?, ?it/s]\u001b[A\u001b[A\u001b[A"
          ],
          "name": "stderr"
        },
        {
          "output_type": "stream",
          "text": [
            "\n",
            "Model Training......  EPOCHS : 0/5\n"
          ],
          "name": "stdout"
        },
        {
          "output_type": "stream",
          "text": [
            "\n",
            "\n",
            "\n",
            " 20%|██        | 1/5 [10:40<42:41, 640.36s/it]\u001b[A\u001b[A\u001b[A"
          ],
          "name": "stderr"
        },
        {
          "output_type": "stream",
          "text": [
            "model validation.....\n",
            "[[ 2.5453467   0.9968477  -1.7113839   1.0165261   0.4814835  -0.339422\n",
            "   0.39409772  0.31171635 -1.7629433  -3.5713346   0.21047151 -1.6755514\n",
            "  -2.6441495  -2.9351609  -2.5515666  -0.33480275 -1.059719   -1.939934\n",
            "  -1.927981   -3.663052    1.3504947   1.609413    0.495539    2.5082881\n",
            "   2.382195    1.4348254  -1.0609795  -1.9613885  -0.7847088   1.9549544 ]\n",
            " [ 1.8481889   0.43316537 -3.251773    0.59711665  1.7250323   1.6780798\n",
            "   0.455279    0.14608094 -1.134621   -4.6586747  -0.45794886 -1.9082866\n",
            "  -3.473966   -4.6336164  -3.7030396  -3.7233548  -0.34519592 -2.1099224\n",
            "   1.4314215  -4.8424225   1.5334629   2.768669    0.57974595  3.2136996\n",
            "   3.6812286   2.0618503  -0.43698877 -2.280026    1.2370201   2.4592812 ]\n",
            " [ 2.2515488   1.0949436  -2.4506118   1.5389166   1.6215472   1.5535314\n",
            "   0.69984597  0.5425984  -0.71912616 -4.179669   -0.7479651   1.4067199\n",
            "  -2.4766955  -3.7212913  -2.5123916  -2.4687772  -1.9181321  -2.4146583\n",
            "  -0.12936415 -4.4417343   1.8052554   2.6565285   0.6500728   3.053264\n",
            "   3.1811476   1.7475626  -1.854335   -2.5857875   0.76799464  2.2471986 ]\n",
            " [ 2.5938435   0.555953   -2.2236128   0.7829785   0.5220413  -0.23252594\n",
            "   0.70627     0.3039048  -1.7063553  -4.5295324   0.8238892  -1.950399\n",
            "  -3.2369723  -3.9964542  -3.5501373  -1.706661   -0.97063243 -2.0642269\n",
            "  -0.740684   -4.722605    1.6117193   2.2863054   0.6667446   3.2408118\n",
            "   3.2960238   1.7732618  -1.0622371  -1.9531808   0.13223423  2.467063  ]] [[0.8888889  0.7777778  0.         1.         1.         0.5\n",
            "  0.6666667  0.5555556  0.33333334 0.         0.6666667  0.\n",
            "  0.         0.         0.         0.6666667  0.         0.\n",
            "  0.33333334 0.         0.8888889  1.         0.6666667  1.\n",
            "  1.         0.8        0.         0.         0.33333334 1.        ]\n",
            " [0.8888889  0.33333334 0.         1.         0.33333334 1.\n",
            "  0.5555556  0.33333334 0.         0.         1.         0.\n",
            "  0.         0.         0.         0.         0.         0.\n",
            "  1.         0.         0.7777778  1.         0.6666667  1.\n",
            "  1.         1.         0.6666667  0.         0.6666667  1.        ]\n",
            " [0.7777778  0.7777778  0.         1.         0.6666667  0.5\n",
            "  0.6666667  0.6666667  0.         0.         0.33333334 1.\n",
            "  0.33333334 0.         0.         0.         0.         0.\n",
            "  0.         0.         0.7777778  1.         0.6666667  1.\n",
            "  1.         0.73333335 0.33333334 0.         0.         0.7777778 ]\n",
            " [0.7777778  0.33333334 0.         1.         0.33333334 0.6666667\n",
            "  0.6666667  0.44444445 0.         0.         0.6666667  0.33333334\n",
            "  0.         0.         0.         0.33333334 0.33333334 0.\n",
            "  0.         0.         0.7777778  1.         0.6666667  1.\n",
            "  0.8888889  0.93333334 0.         0.         0.6666667  0.7777778 ]]\n",
            "\n",
            "Model Training......  EPOCHS : 1/5\n"
          ],
          "name": "stdout"
        },
        {
          "output_type": "stream",
          "text": [
            "\n",
            "\n",
            "\n",
            " 40%|████      | 2/5 [21:25<32:05, 641.74s/it]\u001b[A\u001b[A\u001b[A"
          ],
          "name": "stderr"
        },
        {
          "output_type": "stream",
          "text": [
            "model validation.....\n",
            "[[ 2.60798216e+00  2.62785912e-01 -1.44920528e+00  8.88464570e-01\n",
            "  -1.40044883e-01 -3.31880033e-01  4.66484010e-01  2.58165926e-01\n",
            "  -5.94158292e-01 -4.26910686e+00  1.33936584e+00 -3.90486792e-03\n",
            "  -2.24889255e+00 -3.33653307e+00 -3.92405391e+00 -7.80970097e-01\n",
            "  -1.71518242e+00 -1.99077535e+00 -6.13633096e-01 -4.58931541e+00\n",
            "   1.66920531e+00  1.84912205e+00  5.40197194e-01  2.79392505e+00\n",
            "   2.64815688e+00  1.36468196e+00 -1.54982829e+00 -1.96575665e+00\n",
            "   1.28778204e-01  2.27471757e+00]\n",
            " [ 1.67360032e+00 -4.11465347e-01 -4.56051064e+00  9.91309881e-01\n",
            "   1.22685158e+00  2.20871401e+00  6.77536428e-03 -3.60731333e-01\n",
            "  -2.05071497e+00 -4.63674259e+00 -1.18077688e-01 -2.74962306e+00\n",
            "  -4.44062233e+00 -4.91780519e+00 -4.82485104e+00 -3.93002295e+00\n",
            "   1.41210210e+00 -1.40328765e+00 -2.34639704e-01 -5.55541515e+00\n",
            "   6.49713397e-01  2.43566751e+00  5.44953108e-01  3.24917269e+00\n",
            "   3.57674623e+00  1.77089596e+00  1.22293639e+00 -1.67144132e+00\n",
            "   9.51729566e-02  2.14052081e+00]\n",
            " [ 1.88401985e+00  4.19060022e-01 -3.19014597e+00  3.37835789e-01\n",
            "   2.67030048e+00  2.42831135e+00  3.60768378e-01  7.19473809e-02\n",
            "   5.86923063e-02 -4.35873938e+00 -1.68112540e+00 -2.07408357e+00\n",
            "  -3.01534557e+00 -3.88874006e+00 -2.70278120e+00 -3.38383365e+00\n",
            "  -1.98746622e+00 -2.07730317e+00  2.71880770e+00 -4.67821503e+00\n",
            "   1.55452430e+00  2.27642989e+00  5.90055645e-01  2.75155616e+00\n",
            "   3.17418623e+00  1.59937894e+00 -1.70702910e+00 -2.21362734e+00\n",
            "   2.18298721e+00  2.20881486e+00]\n",
            " [ 2.01329064e+00  3.91810834e-01 -4.53799629e+00  1.08530891e+00\n",
            "   1.39574063e+00  2.36161232e+00  1.75007239e-01 -1.21108525e-01\n",
            "  -2.42220569e+00 -4.71011829e+00 -3.89136434e-01 -2.96610141e+00\n",
            "  -4.73166656e+00 -5.00926399e+00 -4.85127068e+00 -3.60854268e+00\n",
            "   2.42639041e+00 -1.11329615e+00 -2.30751491e+00 -5.62460470e+00\n",
            "   1.24274063e+00  2.39992929e+00  5.02130032e-01  3.01413321e+00\n",
            "   3.42489266e+00  1.71638870e+00  2.39860082e+00 -1.85627711e+00\n",
            "  -2.24068189e+00  2.04343963e+00]] [[1.         0.8888889  0.         1.         0.6666667  1.\n",
            "  0.5555556  0.44444445 0.         0.         1.         0.6666667\n",
            "  0.         0.         0.         0.         0.33333334 0.\n",
            "  0.         0.         0.8888889  0.7777778  0.6666667  1.\n",
            "  0.8888889  0.8        1.         0.         0.         1.        ]\n",
            " [1.         0.33333334 0.         1.         1.         1.\n",
            "  0.33333334 0.33333334 0.         0.         1.         0.\n",
            "  0.         0.         0.         0.         1.         0.\n",
            "  0.         0.         0.6666667  1.         0.6666667  1.\n",
            "  1.         0.8        1.         0.         0.         1.        ]\n",
            " [0.7777778  0.44444445 0.         0.33333334 1.         1.\n",
            "  0.5555556  0.33333334 1.         0.         0.         0.\n",
            "  0.         0.33333334 0.         0.33333334 0.         0.\n",
            "  1.         0.         0.7777778  1.         0.6666667  1.\n",
            "  0.8888889  0.8        0.33333334 0.         1.         0.8888889 ]\n",
            " [0.7777778  0.5555556  0.         0.33333334 1.         1.\n",
            "  0.6666667  0.44444445 0.33333334 0.         0.33333334 0.\n",
            "  0.         0.         0.         0.         1.         0.33333334\n",
            "  0.33333334 0.         0.6666667  0.6666667  0.33333334 1.\n",
            "  0.6666667  0.4        1.         0.         0.         0.8333333 ]]\n",
            "\n",
            "Model Training......  EPOCHS : 2/5\n"
          ],
          "name": "stdout"
        },
        {
          "output_type": "stream",
          "text": [
            "\n",
            "\n",
            "\n",
            " 60%|██████    | 3/5 [32:11<21:26, 643.22s/it]\u001b[A\u001b[A\u001b[A"
          ],
          "name": "stderr"
        },
        {
          "output_type": "stream",
          "text": [
            "model validation.....\n",
            "[[ 2.1398427   0.46908122 -3.6656919   0.8771308   3.43766     2.531782\n",
            "   0.21434398  0.15173289 -0.1952916  -4.751487   -2.6968555  -0.15547691\n",
            "  -2.7521894  -3.7932167  -1.2017633  -1.7500885  -2.911949   -2.283942\n",
            "   0.38326234 -4.8937907   1.7220454   2.3442032   0.7837496   2.8089607\n",
            "   3.0405076   1.6452023  -2.7669392  -2.557886    1.3386285   2.213184  ]\n",
            " [ 2.932063    1.6300604  -1.8276925   2.2733572   1.0797917   0.18407759\n",
            "   0.5227446   0.81344223 -2.5324807  -4.4416795  -0.7151533  -0.5879515\n",
            "  -2.4482334  -3.9088376  -1.3810263  -0.38035905 -2.9781637  -2.9709752\n",
            "  -2.4084704  -4.7105827   2.1287851   2.173222    0.65786475  2.6852942\n",
            "   2.7425988   1.6041611  -2.536102   -2.92168    -1.4950875   2.2114718 ]\n",
            " [ 2.2935016   0.27036944 -4.169659    1.1388675   2.7676458   3.0042841\n",
            "   0.3041064  -0.02851051 -0.66691697 -5.536743   -1.8688344   0.4442186\n",
            "  -3.2006695  -4.296695   -3.4605417  -3.7188792  -2.139385   -2.3157828\n",
            "   0.8743366  -6.056276    1.5806348   2.9184358   0.732285    3.7152827\n",
            "   3.9695153   2.1608522  -2.2185018  -2.4511225   2.2838068   2.5055566 ]\n",
            " [ 2.2628093   0.56438106 -4.7337246   1.1003356   1.508353    2.4599037\n",
            "   0.22437188 -0.1235631  -1.4663919  -5.592337   -0.25676972  0.24966623\n",
            "  -4.7193246  -5.1018953  -5.546931   -4.1423516   1.9653838  -1.2052175\n",
            "  -2.5525413  -6.402076    1.3936168   2.8730662   0.80332196  3.4747076\n",
            "   3.8317351   2.0344234   1.8331039  -1.6531353  -1.345291    2.395622  ]] [[0.7777778  0.5555556  0.         0.6666667  1.         0.6666667\n",
            "  0.44444445 0.33333334 0.33333334 0.         0.         0.33333334\n",
            "  0.         0.         0.         0.33333334 0.33333334 0.\n",
            "  1.         0.         0.7777778  0.8888889  0.6666667  0.8888889\n",
            "  0.7777778  0.9        0.         0.33333334 1.         0.7777778 ]\n",
            " [1.         0.8888889  0.         1.         0.33333334 0.6666667\n",
            "  0.5555556  0.6666667  0.         0.         0.6666667  0.\n",
            "  0.         0.         0.         1.         0.         0.\n",
            "  0.         0.         0.6666667  1.         0.6666667  1.\n",
            "  1.         0.8666667  0.         0.         1.         1.        ]\n",
            " [1.         0.33333334 0.         1.         1.         1.\n",
            "  0.44444445 0.33333334 0.6666667  0.         0.         1.\n",
            "  0.33333334 0.         0.         0.         0.         0.\n",
            "  0.33333334 0.         0.8888889  1.         0.6666667  1.\n",
            "  1.         1.         0.33333334 0.         1.         0.8888889 ]\n",
            " [0.5555556  0.5555556  0.         0.         1.         0.\n",
            "  0.33333334 0.33333334 0.         0.         0.         0.\n",
            "  0.         0.         0.         0.         1.         0.\n",
            "  0.         0.         0.6666667  1.         0.6666667  1.\n",
            "  1.         0.9        0.6666667  0.         0.33333334 0.8888889 ]]\n",
            "\n",
            "Model Training......  EPOCHS : 3/5\n"
          ],
          "name": "stdout"
        },
        {
          "output_type": "stream",
          "text": [
            "\n",
            "\n",
            "\n",
            " 80%|████████  | 4/5 [42:58<10:44, 644.21s/it]\u001b[A\u001b[A\u001b[A"
          ],
          "name": "stderr"
        },
        {
          "output_type": "stream",
          "text": [
            "model validation.....\n",
            "[[ 1.7806516   0.00914778 -4.1631975   1.1615933   0.9687561   2.1564415\n",
            "   0.15319748 -0.24963978 -2.9433763  -4.914256    0.05132872 -2.8368351\n",
            "  -4.647195   -5.1970677  -5.1028047  -5.0934987   0.8738355  -1.8064357\n",
            "   0.699697   -6.455742    0.87717265  2.7289824   0.64513177  3.4996982\n",
            "   3.9083765   2.0251029   0.7454324  -1.8468939   1.0726928   2.2512715 ]\n",
            " [ 2.2896445   0.15189219 -4.790868    0.52144665  1.5604037   2.175084\n",
            "   0.16853315 -0.1200224  -0.44284758 -5.6845264  -0.12878412 -0.6513606\n",
            "  -4.8807554  -5.1432395  -5.661449   -4.6186833   2.4106507  -0.7554921\n",
            "  -1.9034458  -6.7902813   1.3060664   3.0666366   0.8225225   3.6725805\n",
            "   4.0283895   1.9504961   2.0462098  -1.4518964  -0.9134653   2.6346178 ]\n",
            " [ 1.8674469  -0.1555829  -4.466754    0.48760906  1.1615795   1.6458652\n",
            "   0.19482975 -0.1395724   0.5206426  -5.1324472   0.42453516  0.18905759\n",
            "  -3.765227   -4.5511775  -5.775784   -3.8656573   1.73243    -0.86881334\n",
            "  -1.2486631  -6.1716194   1.250743    2.7283256   0.6562699   3.278987\n",
            "   3.545786    1.647683    1.4477361  -0.9565368   0.01332098  2.478747  ]\n",
            " [ 1.1549551  -0.6957502  -3.5401511   1.0456169   1.4250244   1.9733522\n",
            "   0.33593634 -0.14520815  0.3646798  -3.6380916  -0.09427178  1.3953286\n",
            "  -1.9848523  -3.040395   -4.125933   -2.8143277  -0.4321334  -1.3720263\n",
            "   0.70980984 -4.414752    0.41519734  1.7415639   0.205724    2.1850736\n",
            "   2.2253978   0.88266957 -0.5358344  -1.0706086   1.0058182   1.6038752 ]] [[0.8888889  0.33333334 0.         0.6666667  1.         1.\n",
            "  0.5555556  0.5555556  0.         0.         0.         0.\n",
            "  0.         0.         0.         0.         1.         0.33333334\n",
            "  0.33333334 0.         0.5555556  1.         0.6666667  1.\n",
            "  1.         0.8666667  0.6666667  0.33333334 0.33333334 0.8888889 ]\n",
            " [0.8888889  0.33333334 0.         1.         0.33333334 1.\n",
            "  0.5555556  0.33333334 0.33333334 0.         0.6666667  0.6666667\n",
            "  0.         0.         0.         0.         1.         0.\n",
            "  0.         0.         0.33333334 1.         0.6666667  1.\n",
            "  1.         1.         1.         0.         0.         1.        ]\n",
            " [0.7777778  0.44444445 0.         0.6666667  0.6666667  1.\n",
            "  0.44444445 0.33333334 0.33333334 0.         0.6666667  0.33333334\n",
            "  0.         0.         0.         0.         0.6666667  0.\n",
            "  0.         0.         0.44444445 0.8888889  0.6666667  1.\n",
            "  1.         0.8666667  1.         0.         0.         1.        ]\n",
            " [1.         0.33333334 0.         1.         1.         1.\n",
            "  0.6666667  0.5555556  0.         0.         0.33333334 0.33333334\n",
            "  0.         0.         0.         0.         0.6666667  0.\n",
            "  0.33333334 0.         0.8888889  0.6666667  0.33333334 0.6666667\n",
            "  0.6666667  0.26666668 0.         0.         0.         0.8888889 ]]\n",
            "\n",
            "Model Training......  EPOCHS : 4/5\n"
          ],
          "name": "stdout"
        },
        {
          "output_type": "stream",
          "text": [
            "\n",
            "\n",
            "\n",
            "100%|██████████| 5/5 [53:45<00:00, 645.05s/it]"
          ],
          "name": "stderr"
        },
        {
          "output_type": "stream",
          "text": [
            "model validation.....\n",
            "[[ 2.6962857   1.4386197  -4.703872    1.2789372   1.8645719   2.378204\n",
            "   0.49391282 -0.05181449 -3.118688   -5.326174   -1.0505184  -3.950532\n",
            "  -5.059736   -5.7333755  -4.7307444  -4.3775115   1.7630562  -1.43426\n",
            "  -2.4893315  -6.696542    2.1083755   2.9325764   0.8394967   3.5318918\n",
            "   4.012981    2.195619    1.0258366  -1.6997181  -0.9059772   2.5072641 ]\n",
            " [ 1.6228034  -0.21385801 -5.0574517   1.4092472   1.1757321   2.6967807\n",
            "   0.09723268 -0.4657743  -2.9826894  -5.118979   -0.34807932 -2.5480778\n",
            "  -5.1164556  -5.554128   -5.529633   -5.12297     1.1937456  -1.6940969\n",
            "  -0.13563447 -6.7876987   0.6083834   3.1701353   0.7678815   3.6547554\n",
            "   4.147084    2.0664625   0.9332692  -1.6979102   1.1524715   2.3019073 ]\n",
            " [ 2.2472713   0.6971499  -4.734753    1.0972497   1.4087214   2.022243\n",
            "   0.33730707 -0.16674817 -3.2409048  -4.760838   -0.4454692  -4.2394147\n",
            "  -4.7958775  -5.4068513  -4.9257946  -3.948426    2.0023785  -1.2048788\n",
            "  -1.9955424  -6.3090153   1.3515497   2.4709096   0.5751139   3.280787\n",
            "   3.5938914   1.8141848   0.82039165 -1.5977522  -0.25383702  2.310984  ]\n",
            " [ 2.81831     1.1609756  -2.6968915   2.6367419   1.5023485   2.1554933\n",
            "   0.56111795  0.78062993 -2.5184193  -4.811846   -0.816262    1.1962408\n",
            "  -2.0560496  -4.1648693  -1.743125   -3.610615   -3.035061   -3.413283\n",
            "  -0.86871517 -5.2605395   1.8274556   2.3961933   0.82829386  3.3519118\n",
            "   3.6520984   1.9855425  -2.782218   -3.2680001   0.4471384   2.328094  ]] [[1.         0.8888889  0.         1.         0.33333334 1.\n",
            "  0.5555556  0.33333334 0.         0.         0.6666667  0.\n",
            "  0.         0.         0.         0.         1.         0.\n",
            "  0.         0.         0.8888889  1.         0.6666667  1.\n",
            "  1.         1.         1.         0.         0.         0.8888889 ]\n",
            " [1.         0.44444445 0.         0.6666667  0.6666667  0.6666667\n",
            "  0.5555556  0.44444445 0.         0.         1.         0.33333334\n",
            "  0.         0.         0.         0.         0.6666667  0.\n",
            "  0.6666667  0.         0.7777778  1.         0.6666667  1.\n",
            "  1.         0.93333334 1.         0.33333334 1.         1.        ]\n",
            " [0.8888889  0.8888889  0.         1.         0.6666667  1.\n",
            "  0.6666667  0.44444445 0.         0.         0.33333334 0.\n",
            "  0.         0.         0.         0.         1.         0.\n",
            "  0.         0.         0.5555556  0.8888889  0.6666667  1.\n",
            "  1.         0.9        0.33333334 0.         1.         0.8888889 ]\n",
            " [0.7777778  0.7777778  0.         1.         0.6666667  0.5\n",
            "  0.6666667  0.6666667  0.         0.         0.33333334 1.\n",
            "  0.33333334 0.         0.         0.         0.         0.\n",
            "  0.         0.         0.7777778  1.         0.6666667  1.\n",
            "  1.         0.73333335 0.33333334 0.         0.         0.7777778 ]]\n"
          ],
          "name": "stdout"
        },
        {
          "output_type": "stream",
          "text": [
            "\n"
          ],
          "name": "stderr"
        }
      ]
    },
    {
      "cell_type": "code",
      "metadata": {
        "id": "Y4huZyRuB544"
      },
      "source": [
        ""
      ],
      "execution_count": null,
      "outputs": []
    }
  ]
}